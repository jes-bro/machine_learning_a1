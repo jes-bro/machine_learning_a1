{
 "cells": [
  {
   "cell_type": "markdown",
   "metadata": {},
   "source": [
    "# Module 1: Can Food Models have Bias? \n",
    "### _A rigorous evaluation of the impact of data on model performance_\n",
    "\n",
    "Model performance can vary significantly with different groups or types of data, especially if a model has high bias. Models have bias in part because training data has bias, and training data has bias because people curate training data. A prerequisite to evaluating model bias is understanding how your model performs on different types of data. To achieve a comprehensive understanding of model performance, you can use established evaluation metrics. In this module, you will learn what those metrics are, how they work, and how to interpret them. \n",
    "\n",
    "\n",
    "<img src=\"model_bias.png\" alt=\"drawing\" width=\"450\" height=\"450\"/>\n",
    "\n",
    "This module will take place over the course of 3 in-class periods and an assignment. The schedule for the module is as follows: \n",
    "\n",
    "## Module Schedule\n",
    "\n",
    "### Day 1: Intro to the Blackbox\n",
    "\n",
    "#### _Agenda:_\n",
    "\n",
    "* Discussion: impacts of machine learning (15 min)\n",
    "* Lecture: The life cycle of an ML model (15 min)\n",
    "* In-class activity: Playing with input data (40 min)\n",
    "* Reflection (15 min)\n",
    "* Brief course overview and assignment intro (10 min)\n",
    "* Fill out course entrance survey and ask remaining questions (5 min)\n",
    "\n",
    "#### _Homework:_ \n",
    "\n",
    "* Read [this](https://www.datacamp.com/blog/machine-learning-lifecycle-explained) article on the ML model development cycle\n",
    "\n",
    "### Day 2: Model Evaluation\n",
    "\n",
    "#### _Agenda:_\n",
    "\n",
    "* Discussion: Debriefing the homework reading (10 min)\n",
    "* Lecture: Evaluation Metrics (20 min)\n",
    "* In-class activity: Interpreting metrics practice (40 min)\n",
    "* Reflection (5 min)\n",
    "* Work time: Assignment 1 (25 min)\n",
    "\n",
    "#### _Homework:_ \n",
    "\n",
    "* Finish through section x of assignment 1 (in this notebook!)\n",
    "* Read [this](https://spotintelligence.com/2023/04/07/data-quality-machine-learning/) article on evaluating data quality\n",
    "\n",
    "### Day 3: Dataset Evaluation\n",
    "\n",
    "#### _Agenda:_\n",
    "\n",
    "* Discussion: How might you use evaluation metrics to assess bias? (15 min)\n",
    "* Lecture: \n",
    "    - Dataset splitting (10 min)\n",
    "    - In dataset vs. out of dataset evaluation (10 min)\n",
    "* In class activity: Playing with datasets and dataset splitting (40 min)\n",
    "* Reflection (5 min)\n",
    "* Work time: Assignment 1 (20 min)\n",
    "\n",
    "### _Homework:_ \n",
    "\n",
    "* Finish assignment 1"
   ]
  },
  {
   "cell_type": "code",
   "execution_count": 6,
   "metadata": {},
   "outputs": [],
   "source": [
    "import json\n",
    "\n",
    "with open(\"results.json\", \"r\") as file:\n",
    "    data = json.load(file)\n",
    "    \n",
    "class_mappings = data[\"class_indices\"]\n",
    "predictions = [x[0] for x in data[\"predictions_and_labels\"]]\n",
    "gt_labels = [x[1] for x in data[\"predictions_and_labels\"]]"
   ]
  },
  {
   "cell_type": "markdown",
   "metadata": {},
   "source": [
    "# Assignment 1: \n",
    "Welcome to the first Assignment of Machine Learning! Pretend that you are the head of the R&D department for FoodNetwork (change to be more funny), which is a new FoodTech start-up that is aimed at helping members of the visually impaired and blind community gain more autonomy in dining (see https://www.jsr.org/hs/index.php/path/article/view/2341 for more information on this topic!) situations. As one of your first products, you are working on a Machine Learning-based approach to identifying foods in a given image. Three of your employees have developed their own classification models to accomplish this task (`model1`, `model2`, and `model3`) and you need to make a recommendation of if any of the three models are up to par with being released to your customers.\n",
    "\n",
    "## Metrics Overview\n",
    "Before being able to evaluate your employees' models, you need to develop metrics to quantitative assess the validation results of each model. The metrics you will implement in this assignment are:\n",
    "\n",
    "* Confusion Matrix \n",
    "* Classification Accuracy,\n",
    "* Precision \n",
    "* Recall\n",
    "\n",
    "_Consult [this article](https://arxiv.org/abs/2008.05756) to learn about the metrics and inform your implementation_"
   ]
  },
  {
   "cell_type": "markdown",
   "metadata": {},
   "source": [
    "## Confusion Matrix"
   ]
  },
  {
   "cell_type": "code",
   "execution_count": 1,
   "metadata": {},
   "outputs": [],
   "source": [
    "## Because of how graphical the confusion matrix is, we will implement most of it for you: \n"
   ]
  },
  {
   "cell_type": "markdown",
   "metadata": {},
   "source": [
    "## Classification Accuracy\n",
    "First, read [this article](https://www.sharpsightlabs.com/blog/classification-accuracy-explained/) about classification accuracy for a brief intro. \n",
    "\n",
    "In other words, \"classification accuracy is the ratio of the number of correct predictions to the total number of input samples\" (Yalug, et al.) ([Source](https://www.sciencedirect.com/science/article/abs/pii/B9780128228289000058))"
   ]
  },
  {
   "cell_type": "code",
   "execution_count": null,
   "metadata": {},
   "outputs": [],
   "source": []
  },
  {
   "cell_type": "markdown",
   "metadata": {},
   "source": [
    "## Precision"
   ]
  },
  {
   "cell_type": "code",
   "execution_count": null,
   "metadata": {},
   "outputs": [],
   "source": []
  },
  {
   "cell_type": "markdown",
   "metadata": {},
   "source": [
    "## Recall"
   ]
  },
  {
   "cell_type": "code",
   "execution_count": null,
   "metadata": {},
   "outputs": [],
   "source": []
  }
 ],
 "metadata": {
  "kernelspec": {
   "display_name": "Python 3",
   "language": "python",
   "name": "python3"
  },
  "language_info": {
   "codemirror_mode": {
    "name": "ipython",
    "version": 3
   },
   "file_extension": ".py",
   "mimetype": "text/x-python",
   "name": "python",
   "nbconvert_exporter": "python",
   "pygments_lexer": "ipython3",
   "version": "3.10.12"
  }
 },
 "nbformat": 4,
 "nbformat_minor": 2
}
