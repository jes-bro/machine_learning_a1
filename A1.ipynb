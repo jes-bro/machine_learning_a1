{
 "cells": [
  {
   "cell_type": "markdown",
   "metadata": {},
   "source": [
    "# Can Food Models have Bias? \n",
    "### _A rigorous evaluation of the impact of data on model performance_\n",
    "\n",
    "Model performance can vary significantly with different groups or types of data, especially if a model has high bias. Models have bias in part because training data has bias, and training data has bias because people curate training data. A prerequisite to evaluating model bias is understanding how your model performs on different types of data. To achieve a comprehensive understanding of model performance, you can use established evaluation metrics. In this assignment, you will learn what those metrics are, how they work, and how to interpret them. \n",
    "\n",
    "![Paper written in LaTeX](/i/latex.jpg)\n",
    "\n",
    "## Metrics Overview\n",
    "\n",
    "The metrics we will learn in this assignment are:\n",
    "\n",
    "* Classification Accuracy\n",
    "* Precision \n",
    "* Recall\n",
    "* Confusion Matrix \n"
   ]
  }
 ],
 "metadata": {
  "language_info": {
   "name": "python"
  }
 },
 "nbformat": 4,
 "nbformat_minor": 2
}
