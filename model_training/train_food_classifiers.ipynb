{
  "cells": [
    {
      "cell_type": "code",
      "execution_count": null,
      "metadata": {
        "id": "Dl3G8qVj-63z"
      },
      "outputs": [],
      "source": [
        "import tensorflow as tf\n",
        "from tensorflow.keras.preprocessing.image import ImageDataGenerator\n",
        "import tensorflow_hub as hub"
      ]
    },
    {
      "cell_type": "code",
      "execution_count": null,
      "metadata": {
        "id": "iMWy3-ALvP27"
      },
      "outputs": [],
      "source": [
        "from google.colab import drive\n",
        "drive.mount('/content/gdrive')\n",
        "# This should be the path to the `train_images.zip` file in your google drive.\n",
        "!unzip gdrive/My\\ Drive/train_images.zip"
      ]
    },
    {
      "cell_type": "code",
      "execution_count": null,
      "metadata": {
        "id": "ZXzNCMEH-93K"
      },
      "outputs": [],
      "source": [
        "for model_name in [\n",
        "    \"model0\",\n",
        "    \"model1\",\n",
        "    \"model2\"\n",
        "    ]:\n",
        "  training_dir = f\"train_data/{model_name}\"\n",
        "  train_datagen = ImageDataGenerator(rescale = 1./255, validation_split = 0.00)\n",
        "\n",
        "  train_data = train_datagen.flow_from_directory(training_dir, target_size = (250,250), batch_size = 32, class_mode = 'categorical',\n",
        "                                          subset = 'training')\n",
        "\n",
        "  ResNet_V2_50 = 'https://tfhub.dev/google/imagenet/resnet_v2_50/classification/5'\n",
        "\n",
        "  model_ResNet = tf.keras.Sequential([\n",
        "      hub.KerasLayer(ResNet_V2_50, trainable = False, input_shape = (250,250,3), name = 'Resnet_V2_50'),\n",
        "      tf.keras.layers.Flatten(),\n",
        "      tf.keras.layers.Dense(23, activation = 'softmax', name = 'Output_layer')\n",
        "  ])\n",
        "\n",
        "  model_ResNet.compile(\n",
        "      optimizer = tf.keras.optimizers.Adam(),\n",
        "      loss = tf.keras.losses.CategoricalCrossentropy(),\n",
        "      metrics = ['accuracy']\n",
        "  )\n",
        "\n",
        "\n",
        "  model_ResNet.summary()\n",
        "  tf.keras.utils.plot_model(model_ResNet)\n",
        "  resnet_model = model_ResNet.fit(train_data, epochs = 6, verbose = 1) #5\n",
        "  model_ResNet.save(f\"{model_name}_weights.keras\")"
      ]
    },
    {
      "cell_type": "code",
      "execution_count": null,
      "metadata": {
        "id": "3m0l6e01uWG5"
      },
      "outputs": [],
      "source": []
    }
  ],
  "metadata": {
    "colab": {
      "provenance": []
    },
    "kernelspec": {
      "display_name": "Python 3",
      "name": "python3"
    },
    "language_info": {
      "name": "python"
    }
  },
  "nbformat": 4,
  "nbformat_minor": 0
}
